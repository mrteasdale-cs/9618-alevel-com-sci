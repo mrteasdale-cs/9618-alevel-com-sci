{
  "nbformat": 4,
  "nbformat_minor": 0,
  "metadata": {
    "colab": {
      "provenance": []
    },
    "kernelspec": {
      "name": "python3",
      "display_name": "Python 3"
    },
    "language_info": {
      "name": "python"
    }
  },
  "cells": [
    {
      "cell_type": "code",
      "execution_count": null,
      "metadata": {
        "colab": {
          "base_uri": "https://localhost:8080/"
        },
        "id": "Jb3a6W-k37oq",
        "outputId": "284b9ac0-026c-4095-88c4-f763c4d4b5ad"
      },
      "outputs": [
        {
          "output_type": "stream",
          "name": "stdout",
          "text": [
            "The Toyota Camry is driving.\n",
            "The Tesla Model 3 is driving.\n"
          ]
        }
      ],
      "source": [
        "class Car:\n",
        "    def __init__(self, make, model):\n",
        "        self.make = make\n",
        "        self.model = model\n",
        "\n",
        "    def drive(self):\n",
        "        print(f\"The {self.make} {self.model} is driving.\")\n",
        "\n",
        "# Creating objects\n",
        "car1 = Car(\"Toyota\", \"Camry\")\n",
        "car2 = Car(\"Tesla\", \"Model 3\")\n",
        "\n",
        "car1.drive()  # Output: The Toyota Camry is driving.\n",
        "car2.drive()  # Output: The Tesla Model 3 is driving.\n"
      ]
    },
    {
      "cell_type": "markdown",
      "source": [],
      "metadata": {
        "id": "8WvVSFN_Dez6"
      }
    },
    {
      "cell_type": "code",
      "source": [
        "class Dog:\n",
        "    #constructor - method for creating new objects\n",
        "    def __init__(self, name, age, breed):\n",
        "        self.name = name\n",
        "        self.age = age\n",
        "        self.breed = breed\n",
        "\n",
        "    # Instance method\n",
        "    def description(self):\n",
        "        return f\"{self.name} is {self.age} years old\"\n",
        "\n",
        "    def eat(self):\n",
        "        return f\"Om nom nom. thats yummy!\"\n",
        "\n",
        "    # Another instance method\n",
        "    def speak(self, sound):\n",
        "        return f\"{self.name} says {sound}\"\n",
        "\n",
        "    def __str__(self):\n",
        "        return f'Dog: name = {self.name} age = {self.age} breed = {self.breed}'\n",
        "\n",
        "\n",
        "dog1 = Dog(\"Buddy\", 3, \"poodle\")\n",
        "dog2 = Dog(\"Rex\", 5, \"border collie\")\n",
        "\n",
        "print(dog1.eat())\n",
        "print(dog2.speak(\"hi!\"))\n",
        "\n",
        "\n",
        "#object - dog1 is an instance of a Dog\n",
        "dog1.name = \"Joe\"\n",
        "\n",
        "print(f\"{dog1.name} is {dog1.age} years old and is a {dog1.breed}.\")\n",
        "print(f\"{dog2.name} is {dog2.age} years old and is a {dog2.breed}.\")\n",
        "\n",
        "dog1.breed = \"Labrador\"\n",
        "\n",
        "print(f\"Breed updated to {dog1.breed}\")"
      ],
      "metadata": {
        "colab": {
          "base_uri": "https://localhost:8080/"
        },
        "id": "lcEcW8Xj4AFd",
        "outputId": "1f7339a6-bdb6-4314-9b57-3739881b15a7"
      },
      "execution_count": null,
      "outputs": [
        {
          "output_type": "stream",
          "name": "stdout",
          "text": [
            "Om nom nom. thats yummy!\n",
            "Rex says hi!\n",
            "Joe is 3 years old and is a poodle.\n",
            "Rex is 5 years old and is a border collie.\n",
            "Breed updated to Labrador\n"
          ]
        }
      ]
    },
    {
      "cell_type": "code",
      "source": [],
      "metadata": {
        "id": "I-noL4CpAayw"
      },
      "execution_count": null,
      "outputs": []
    },
    {
      "cell_type": "code",
      "source": [
        "class Animal:\n",
        "    def __init__(self, name, age, breed):\n",
        "        self.name = name\n",
        "        self.age = age\n",
        "        self.breed = breed\n",
        "\n",
        "    # Instance method\n",
        "    def description(self):\n",
        "        return f\"{self.name} is {self.age} years old\"\n",
        "\n",
        "    def eat(self):\n",
        "        return f\"Om nom nom\"\n",
        "\n",
        "    # Another instance method\n",
        "    def speak(self, sound):\n",
        "        return f\"{self.name} says {sound}\"\n",
        "\n",
        "    def __str__(self):\n",
        "        return f'Dog: name = {self.name} age = {self.age} breed = {self.breed}'\n",
        "\n",
        "#More classes\n",
        "class Dog(Animal):\n",
        "    def __init__(self, name, age, breed, furType):\n",
        "        super().__init__(name, age, breed)\n",
        "        self.furType = furType\n",
        "\n",
        "    def play(self):\n",
        "        return f\"run run run!!!\"\n",
        "\n",
        "class Cat(Animal):\n",
        "    def __init__(self, name, age, breed, indoorCat):\n",
        "        super().__init__(name, age, breed)\n",
        "        self.indoorCat = indoorCat\n",
        "\n",
        "    def hunt(self):\n",
        "        return f\"Caught a mouse!\"\n",
        "\n",
        "newDog = Dog(\"Buddy\", 9, \"Poodle\", \"Curly\")\n",
        "newCat = Cat(\"Tabby\", 9, \"Tabby\", True)\n",
        "\n",
        "print(newDog)\n",
        "print(newCat)\n",
        "print(newCat.hunt())\n"
      ],
      "metadata": {
        "colab": {
          "base_uri": "https://localhost:8080/"
        },
        "outputId": "2f4cc106-ed0e-43be-fc65-c6ab6ac32bbf",
        "id": "NN079zXZAcu9"
      },
      "execution_count": null,
      "outputs": [
        {
          "output_type": "stream",
          "name": "stdout",
          "text": [
            "Dog: name = Buddy age = 9 breed = Poodle\n",
            "Dog: name = Tabby age = 9 breed = Tabby\n",
            "Caught a mouse!\n"
          ]
        }
      ]
    },
    {
      "cell_type": "code",
      "source": [
        "class Circle:\n",
        "    def __init__(self, radius):\n",
        "        self.radius = radius\n",
        "\n",
        "    def area(self):\n",
        "        return 3.14159 * self.radius ** 2\n",
        "\n",
        "circle = Circle(5)\n",
        "print(\"Area of the circle:\", circle.area())  # Output: Area of the circle: 78.53975\n"
      ],
      "metadata": {
        "colab": {
          "base_uri": "https://localhost:8080/"
        },
        "id": "q7dkyFCI4FYS",
        "outputId": "bdb6cad5-1175-4758-b722-02e58e0ec8a3"
      },
      "execution_count": null,
      "outputs": [
        {
          "output_type": "stream",
          "name": "stdout",
          "text": [
            "Area of the circle: 78.53975\n"
          ]
        }
      ]
    },
    {
      "cell_type": "code",
      "source": [
        "class BankAccount:\n",
        "    def __init__(self, balance):\n",
        "        self.__balance = balance  # Private attribute\n",
        "\n",
        "    def get_balance(self):\n",
        "        return self.__balance\n",
        "\n",
        "    def deposit(self, amount):\n",
        "        self.__balance += amount\n",
        "\n",
        "account = BankAccount(1000)\n",
        "print(\"Initial balance:\", account.get_balance())\n",
        "account.deposit(500)\n",
        "print(\"New balance:\", account.get_balance())\n"
      ],
      "metadata": {
        "colab": {
          "base_uri": "https://localhost:8080/"
        },
        "id": "9XDEYfoP4KKT",
        "outputId": "801fb430-a783-4c3c-e8bd-06990d6cc52f"
      },
      "execution_count": null,
      "outputs": [
        {
          "output_type": "stream",
          "name": "stdout",
          "text": [
            "Initial balance: 1000\n",
            "New balance: 1500\n"
          ]
        }
      ]
    },
    {
      "cell_type": "code",
      "source": [
        "class Car:\n",
        "    def __init__(self, make, model, year, engine_type=\"Gasoline\"):\n",
        "        self.make = make\n",
        "        self.model = model\n",
        "        self.year = year\n",
        "        self.engine_type = engine_type\n",
        "        self.mileage = 0\n",
        "        self.is_running = False\n",
        "        self.maintenance_history = []\n",
        "\n",
        "    def start(self):\n",
        "        if not self.is_running:\n",
        "            self.is_running = True\n",
        "            print(f\"The {self.make} {self.model}'s {self.engine_type} engine is now running.\")\n",
        "        else:\n",
        "            print(\"The engine is already running.\")\n",
        "\n",
        "    def stop(self):\n",
        "        if self.is_running:\n",
        "            self.is_running = False\n",
        "            print(f\"The {self.make} {self.model}'s engine has been stopped.\")\n",
        "        else:\n",
        "            print(\"The engine is already stopped.\")\n",
        "\n",
        "    def drive(self, distance):\n",
        "        if self.is_running:\n",
        "            self.mileage += distance\n",
        "            print(f\"The {self.make} {self.model} has driven {distance} miles.\")\n",
        "        else:\n",
        "            print(\"Start the engine before driving.\")\n",
        "\n",
        "    def perform_maintenance(self, maintenance_task):\n",
        "        self.maintenance_history.append(maintenance_task)\n",
        "        print(f\"Maintenance task '{maintenance_task}' recorded for the {self.make} {self.model}.\")\n",
        "\n",
        "    def display_info(self):\n",
        "        print(f\"Car Information:\\nMake: {self.make}\\nModel: {self.model}\\nYear: {self.year}\"\n",
        "              f\"\\nEngine Type: {self.engine_type}\\nMileage: {self.mileage} miles\"\n",
        "              f\"\\nEngine Status: {'Running' if self.is_running else 'Stopped'}\"\n",
        "              f\"\\nMaintenance History: {', '.join(self.maintenance_history)}\")\n",
        "\n",
        "    def is_fuel_efficient(self):\n",
        "      efficient_types = [\"Hybrid\", \"Electric\"]\n",
        "      return self.engine_type in efficient_types\n",
        "\n",
        "\n",
        "# Creating objects\n",
        "car1 = Car(\"Toyota\", \"Camry\", 2022)\n",
        "car2 = Car(\"Tesla\", \"Model 3\", 2023, engine_type=\"Electric\")\n",
        "\n",
        "# Interacting with the cars\n",
        "car1.start()\n",
        "car1.drive(50)\n",
        "car1.perform_maintenance(\"Oil change\")\n",
        "\n",
        "car2.start()\n",
        "car2.drive(75)\n",
        "car2.perform_maintenance(\"Battery check\")\n",
        "\n",
        "car1.stop()\n",
        "car2.stop()\n",
        "\n",
        "# Displaying car information\n",
        "car1.display_info()\n",
        "car2.display_info()\n",
        "\n",
        "car2.is_fuel_efficient()\n"
      ],
      "metadata": {
        "colab": {
          "base_uri": "https://localhost:8080/"
        },
        "id": "3vtM1axp4NXD",
        "outputId": "22b8eece-16ab-46fb-9dc1-669b2c18dc2b"
      },
      "execution_count": null,
      "outputs": [
        {
          "output_type": "stream",
          "name": "stdout",
          "text": [
            "The Toyota Camry's Gasoline engine is now running.\n",
            "The Toyota Camry has driven 50 miles.\n",
            "Maintenance task 'Oil change' recorded for the Toyota Camry.\n",
            "The Tesla Model 3's Gasoline engine is now running.\n",
            "The Tesla Model 3 has driven 75 miles.\n",
            "Maintenance task 'Battery check' recorded for the Tesla Model 3.\n",
            "The Toyota Camry's engine has been stopped.\n",
            "The Tesla Model 3's engine has been stopped.\n",
            "Car Information:\n",
            "Make: Toyota\n",
            "Model: Camry\n",
            "Year: 2022\n",
            "Engine Type: Gasoline\n",
            "Mileage: 50 miles\n",
            "Engine Status: Stopped\n",
            "Maintenance History: Oil change\n",
            "Car Information:\n",
            "Make: Tesla\n",
            "Model: Model 3\n",
            "Year: 2023\n",
            "Engine Type: Gasoline\n",
            "Mileage: 75 miles\n",
            "Engine Status: Stopped\n",
            "Maintenance History: Battery check\n"
          ]
        },
        {
          "output_type": "execute_result",
          "data": {
            "text/plain": [
              "False"
            ]
          },
          "metadata": {},
          "execution_count": 4
        }
      ]
    },
    {
      "cell_type": "code",
      "source": [
        "class Book:\n",
        "    def __init__(self, title, author, isbn):\n",
        "        self.title = title\n",
        "        self.author = author\n",
        "        self.isbn = isbn\n",
        "        self.is_available = True\n",
        "\n",
        "    def mark_as_unavailable(self):\n",
        "        self.is_available = False\n",
        "\n",
        "    def mark_as_available(self):\n",
        "        self.is_available = True\n",
        "\n",
        "\n",
        "class LibraryMember:\n",
        "    def __init__(self, name, member_id):\n",
        "        self.name = name\n",
        "        self.member_id = member_id\n",
        "        self.borrowed_books = []\n",
        "\n",
        "    def borrow_book(self, book):\n",
        "        if book.is_available:\n",
        "            self.borrowed_books.append(book)\n",
        "            book.mark_as_unavailable()\n",
        "            print(f\"{self.name} has borrowed '{book.title}'.\")\n",
        "        else:\n",
        "            print(f\"'{book.title}' is not available for borrowing.\")\n",
        "\n",
        "    def return_book(self, book):\n",
        "        if book in self.borrowed_books:\n",
        "            self.borrowed_books.remove(book)\n",
        "            book.mark_as_available()\n",
        "            print(f\"{self.name} has returned '{book.title}'.\")\n",
        "        else:\n",
        "            print(f\"{self.name} did not borrow '{book.title}'.\")\n",
        "\n",
        "    def list_borrowed_books(self):\n",
        "        if self.borrowed_books:\n",
        "            print(f\"{self.name}'s borrowed books:\")\n",
        "            for book in self.borrowed_books:\n",
        "                print(f\"- '{book.title}' by {book.author}\")\n",
        "        else:\n",
        "            print(f\"{self.name} has not borrowed any books.\")\n",
        "\n",
        "\n",
        "# Creating books\n",
        "book1 = Book(\"The Catcher in the Rye\", \"J.D. Salinger\", \"9780316769174\")\n",
        "book2 = Book(\"To Kill a Mockingbird\", \"Harper Lee\", \"9780061120084\")\n",
        "book3 = Book(\"1984\", \"George Orwell\", \"9780451524935\")\n",
        "\n",
        "# Creating library members\n",
        "member1 = LibraryMember(\"Alice\", \"A123\")\n",
        "member2 = LibraryMember(\"Bob\", \"B456\")\n",
        "\n",
        "# Library interactions\n",
        "member1.borrow_book(book1)\n",
        "member1.borrow_book(book2)\n",
        "member2.borrow_book(book2)\n",
        "member2.borrow_book(book3)\n",
        "\n",
        "member1.list_borrowed_books()\n",
        "member2.list_borrowed_books()\n",
        "\n",
        "member1.return_book(book1)\n",
        "member2.return_book(book2)\n",
        "\n",
        "member1.list_borrowed_books()\n",
        "member2.list_borrowed_books()\n"
      ],
      "metadata": {
        "colab": {
          "base_uri": "https://localhost:8080/"
        },
        "id": "tIyv6-eGBeOq",
        "outputId": "a2bd1afe-e38d-41a9-d3af-fb4fc99e1aa4"
      },
      "execution_count": null,
      "outputs": [
        {
          "output_type": "stream",
          "name": "stdout",
          "text": [
            "Alice has borrowed 'The Catcher in the Rye'.\n",
            "Alice has borrowed 'To Kill a Mockingbird'.\n",
            "'To Kill a Mockingbird' is not available for borrowing.\n",
            "Bob has borrowed '1984'.\n",
            "Alice's borrowed books:\n",
            "- 'The Catcher in the Rye' by J.D. Salinger\n",
            "- 'To Kill a Mockingbird' by Harper Lee\n",
            "Bob's borrowed books:\n",
            "- '1984' by George Orwell\n",
            "Alice has returned 'The Catcher in the Rye'.\n",
            "Bob did not borrow 'To Kill a Mockingbird'.\n",
            "Alice's borrowed books:\n",
            "- 'To Kill a Mockingbird' by Harper Lee\n",
            "Bob's borrowed books:\n",
            "- '1984' by George Orwell\n"
          ]
        }
      ]
    },
    {
      "cell_type": "code",
      "source": [],
      "metadata": {
        "id": "kzZetEfPBuW_"
      },
      "execution_count": null,
      "outputs": []
    }
  ]
}