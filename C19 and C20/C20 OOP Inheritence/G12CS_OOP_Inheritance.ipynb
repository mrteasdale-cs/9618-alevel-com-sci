{
 "nbformat": 4,
 "nbformat_minor": 0,
 "metadata": {
  "colab": {
   "provenance": [],
   "toc_visible": true
  },
  "kernelspec": {
   "name": "python3",
   "display_name": "Python 3"
  },
  "language_info": {
   "name": "python"
  }
 },
 "cells": [
  {
   "metadata": {},
   "cell_type": "markdown",
   "source": "Open in Colab https://colab.research.google.com/github/mrteasdale-cs/9618-alevel-com-sci/blob/master/C19%20and%20C20/C20%20OOP%20Inheritence/G12CS_OOP_Inheritance.ipynb"
  },
  {
   "cell_type": "markdown",
   "source": [
    "# **No super class - super().__init__(self)**"
   ],
   "metadata": {
    "id": "wbzLOvbNtcrB"
   }
  },
  {
   "cell_type": "code",
   "execution_count": null,
   "metadata": {
    "colab": {
     "base_uri": "https://localhost:8080/"
    },
    "id": "uPeh7OcAtAG4",
    "outputId": "ede93560-45e2-4e3f-945f-2435f45b9f89"
   },
   "outputs": [
    {
     "output_type": "stream",
     "name": "stdout",
     "text": [
      "Hi, I'm Alice and I'm 18 years old.\n",
      "Student ID: 12345\n",
      "Hello, I'm Alice.\n",
      "Alice is studying.\n"
     ]
    }
   ],
   "source": [
    "class Person:\n",
    "    def __init__(self, name, age):\n",
    "        self.name = name\n",
    "        self.age = age\n",
    "\n",
    "    def introduce(self):\n",
    "        return f\"Hi, I'm {self.name} and I'm {self.age} years old.\"\n",
    "\n",
    "    def greet(self):\n",
    "        return f\"Hello, I'm {self.name}.\"\n",
    "\n",
    "class Student(Person):\n",
    "    def __init__(self, name, age, student_id):\n",
    "        self.name = name\n",
    "        self.age = age\n",
    "        self.student_id = student_id\n",
    "\n",
    "    def display_student_info(self):\n",
    "        return f\"Student ID: {self.student_id}\"\n",
    "\n",
    "    def study(self):\n",
    "        return f\"{self.name} is studying.\"\n",
    "\n",
    "student = Student(\"Alice\", 18, \"12345\")\n",
    "print(student.introduce())\n",
    "print(student.display_student_info())\n",
    "print(student.greet())\n",
    "print(student.study())\n"
   ]
  },
  {
   "cell_type": "code",
   "source": [
    "class Shape:\n",
    "    def area(self):\n",
    "        raise NotImplementedError(\"Subclasses must implement this method.\")\n",
    "\n",
    "    def perimeter(self):\n",
    "        raise NotImplementedError(\"Subclasses must implement this method.\")\n",
    "\n",
    "class Circle(Shape):\n",
    "    def __init__(self, radius):\n",
    "        self.radius = radius\n",
    "\n",
    "    def area(self):\n",
    "        return 3.14 * self.radius ** 2\n",
    "\n",
    "    def circumference(self):\n",
    "        return 2 * 3.14 * self.radius\n",
    "\n",
    "    def describe(self):\n",
    "        return f\"This is a circle with radius {self.radius}.\"\n",
    "\n",
    "class Rectangle(Shape):\n",
    "    def __init__(self, width, height):\n",
    "        self.width = width\n",
    "        self.height = height\n",
    "\n",
    "    def area(self):\n",
    "        return self.width * self.height\n",
    "\n",
    "    def perimeter(self):\n",
    "        return 2 * (self.width + self.height)\n",
    "\n",
    "    def describe(self):\n",
    "        return f\"This is a rectangle with width {self.width} and height {self.height}.\"\n",
    "\n",
    "circle = Circle(5)\n",
    "rectangle = Rectangle(4, 6)\n",
    "\n",
    "print(\"Circle Area:\", circle.area())\n",
    "print(\"Circle Circumference:\", circle.circumference())\n",
    "print(circle.describe())\n",
    "print(\"Rectangle Area:\", rectangle.area())\n",
    "print(\"Rectangle Perimeter:\", rectangle.perimeter())\n",
    "print(rectangle.describe())\n"
   ],
   "metadata": {
    "colab": {
     "base_uri": "https://localhost:8080/"
    },
    "id": "EXzMBONgtNeb",
    "outputId": "c6bf5b3e-057f-43ad-849c-276fc9dd1dde"
   },
   "execution_count": null,
   "outputs": [
    {
     "output_type": "stream",
     "name": "stdout",
     "text": [
      "Circle Area: 78.5\n",
      "Circle Circumference: 31.400000000000002\n",
      "This is a circle with radius 5.\n",
      "Rectangle Area: 24\n",
      "Rectangle Perimeter: 20\n",
      "This is a rectangle with width 4 and height 6.\n"
     ]
    }
   ]
  },
  {
   "cell_type": "code",
   "source": [
    "class Person:\n",
    "    def __init__(self, name):\n",
    "        self.name = name\n",
    "\n",
    "    def greet(self):\n",
    "        return f\"Hello, my name is {self.name}.\"\n",
    "\n",
    "class Employee:\n",
    "    def __init__(self, employee_id):\n",
    "        self.employee_id = employee_id\n",
    "\n",
    "    def get_employee_info(self):\n",
    "        return f\"Employee ID: {self.employee_id}\"\n",
    "\n",
    "    def work(self):\n",
    "        return f\"{self.name} is working.\"\n",
    "\n",
    "class Manager(Person, Employee):\n",
    "    def __init__(self, name, employee_id, department):\n",
    "        self.name = name\n",
    "        self.employee_id = employee_id\n",
    "        self.department = department\n",
    "\n",
    "    def display_department(self):\n",
    "        return f\"Department: {self.department}\"\n",
    "\n",
    "    def manage(self):\n",
    "        return f\"{self.name} is managing the {self.department} department.\"\n",
    "\n",
    "manager = Manager(\"John\", \"E123\", \"HR\")\n",
    "print(manager.greet())\n",
    "print(manager.get_employee_info())\n",
    "print(manager.display_department())\n",
    "print(manager.work())\n",
    "print(manager.manage())\n"
   ],
   "metadata": {
    "colab": {
     "base_uri": "https://localhost:8080/"
    },
    "id": "mXMIcNdutTKz",
    "outputId": "96241498-4d9f-48bb-d071-ca718a2a8900"
   },
   "execution_count": null,
   "outputs": [
    {
     "output_type": "stream",
     "name": "stdout",
     "text": [
      "Hello, my name is John.\n",
      "Employee ID: E123\n",
      "Department: HR\n",
      "John is working.\n",
      "John is managing the HR department.\n"
     ]
    }
   ]
  },
  {
   "cell_type": "markdown",
   "source": [
    "# **super class - super().__init__(self)**"
   ],
   "metadata": {
    "id": "NkNDjm8EtpuZ"
   }
  },
  {
   "cell_type": "code",
   "source": [
    "class Person:\n",
    "    def __init__(self, name, age):\n",
    "        self.name = name\n",
    "        self.age = age\n",
    "\n",
    "    def introduce(self):\n",
    "        return f\"Hi, I'm {self.name} and I'm {self.age} years old.\"\n",
    "\n",
    "class Student(Person):\n",
    "    def __init__(self, name, age, student_id):\n",
    "        super().__init__(name, age)\n",
    "        self.student_id = student_id\n",
    "\n",
    "    def display_student_info(self):\n",
    "        return f\"Student ID: {self.student_id}\"\n",
    "\n",
    "student = Student(\"Alice\", 18, \"12345\")\n",
    "print(student.introduce())\n",
    "print(student.display_student_info())\n"
   ],
   "metadata": {
    "colab": {
     "base_uri": "https://localhost:8080/"
    },
    "id": "EJU6gWI4tuHy",
    "outputId": "afdce85c-3f04-451d-ce2b-d1ba2cb0dfd3"
   },
   "execution_count": null,
   "outputs": [
    {
     "output_type": "stream",
     "name": "stdout",
     "text": [
      "Hi, I'm Alice and I'm 18 years old.\n",
      "Student ID: 12345\n"
     ]
    }
   ]
  },
  {
   "cell_type": "code",
   "source": [
    "class Shape:\n",
    "    def area(self):\n",
    "        pass\n",
    "\n",
    "class Circle(Shape):\n",
    "    def __init__(self, radius):\n",
    "        self.radius = radius\n",
    "\n",
    "    def area(self):\n",
    "        return 3.14 * self.radius ** 2\n",
    "\n",
    "    def circumference(self):\n",
    "        return 2 * 3.14 * self.radius\n",
    "\n",
    "class Rectangle(Shape):\n",
    "    def __init__(self, width, height):\n",
    "        self.width = width\n",
    "        self.height = height\n",
    "\n",
    "    def area(self):\n",
    "        return self.width * self.height\n",
    "\n",
    "    def perimeter(self):\n",
    "        return 2 * (self.width + self.height)\n",
    "\n",
    "circle = Circle(5)\n",
    "rectangle = Rectangle(4, 6)\n",
    "\n",
    "print(\"Circle Area:\", circle.area())\n",
    "print(\"Circle Circumference:\", circle.circumference())\n",
    "print(\"Rectangle Area:\", rectangle.area())\n",
    "print(\"Rectangle Perimeter:\", rectangle.perimeter())\n"
   ],
   "metadata": {
    "colab": {
     "base_uri": "https://localhost:8080/"
    },
    "id": "edQvrw0Wt4c_",
    "outputId": "3aa196d0-8002-438a-91c8-59ba0cdb0c0f"
   },
   "execution_count": null,
   "outputs": [
    {
     "output_type": "stream",
     "name": "stdout",
     "text": [
      "Circle Area: 78.5\n",
      "Circle Circumference: 31.400000000000002\n",
      "Rectangle Area: 24\n",
      "Rectangle Perimeter: 20\n"
     ]
    }
   ]
  },
  {
   "cell_type": "code",
   "source": [
    "class Person:\n",
    "    def __init__(self, name):\n",
    "        self.name = name\n",
    "\n",
    "    def greet(self):\n",
    "        return f\"Hello, my name is {self.name}.\"\n",
    "\n",
    "class Employee:\n",
    "    def __init__(self, employee_id):\n",
    "        self.employee_id = employee_id\n",
    "\n",
    "    def get_employee_info(self):\n",
    "        return f\"Employee ID: {self.employee_id}\"\n",
    "\n",
    "class Manager(Person, Employee):\n",
    "    def __init__(self, name, employee_id, department):\n",
    "        super().__init__(name)\n",
    "        self.employee_id = employee_id\n",
    "        self.department = department\n",
    "\n",
    "    def display_department(self):\n",
    "        return f\"Department: {self.department}\"\n",
    "\n",
    "manager = Manager(\"John\", \"E123\", \"HR\")\n",
    "print(manager.greet())\n",
    "print(manager.get_employee_info())\n",
    "print(manager.display_department())\n"
   ],
   "metadata": {
    "colab": {
     "base_uri": "https://localhost:8080/"
    },
    "id": "MeAJjLgst7cv",
    "outputId": "fb74f4e9-d83b-4586-dc42-facd8a5d69a8"
   },
   "execution_count": null,
   "outputs": [
    {
     "output_type": "stream",
     "name": "stdout",
     "text": [
      "Hello, my name is John.\n",
      "Employee ID: E123\n",
      "Department: HR\n"
     ]
    }
   ]
  },
  {
   "cell_type": "code",
   "source": [],
   "metadata": {
    "id": "9txMdAnUt-Cv"
   },
   "execution_count": null,
   "outputs": []
  }
 ]
}
