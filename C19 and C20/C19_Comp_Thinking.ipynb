{
 "nbformat": 4,
 "nbformat_minor": 0,
 "metadata": {
  "colab": {
   "provenance": []
  },
  "kernelspec": {
   "name": "python3",
   "display_name": "Python 3"
  },
  "language_info": {
   "name": "python"
  }
 },
 "cells": [
  {
   "cell_type": "markdown",
   "source": [
    "**Chapter 19** Solutions\n",
    "Open in Google Colab: https://colab.research.google.com/github/mrteasdale-cs/9618-alevel-com-sci/blob/master/C19%20and%20C20/C19_Comp_Thinking.ipynb"
   ],
   "metadata": {
    "id": "WNgClxB1SQlp"
   }
  },
  {
   "cell_type": "code",
   "source": [
    "#Activity 19A\n",
    "#Python program for Linear Search\n",
    "\n",
    "#create array to store all the numbers\n",
    "myList = [4, 2, 8, 17, 9, 3, 7, 12, 34, 21]\n",
    "#enter item to search for\n",
    "item = int(input(\"Please enter item to be found \"))\n",
    "found = False\n",
    "for index in range(len(myList)):\n",
    "  if(myList[index] == item):\n",
    "    found = True\n",
    "\n",
    "if(found):\n",
    "  print(\"Item found\")\n",
    "else:\n",
    "  print(\"Item not found\")"
   ],
   "metadata": {
    "id": "mEZd0LfjTet0"
   },
   "execution_count": null,
   "outputs": []
  },
  {
   "cell_type": "code",
   "source": [
    "#Activity 19C\n",
    "#Python program for Binary Search\n",
    "\n",
    "#create sorted list to store all the numbers\n",
    "myList = [16, 19, 21, 27, 36, 42, 55, 67, 76, 89]\n",
    "#enter item to search for\n",
    "item = int(input(\"Please enter item to be found \"))\n",
    "found = False\n",
    "lowerBound = 0\n",
    "upperBound = len(myList) - 1\n",
    "while (not found) and (lowerBound <= upperBound):\n",
    "  index = int((upperBound + lowerBound)/2)\n",
    "  if(myList[index] == item):\n",
    "    found = True\n",
    "  if item > myList[index]:\n",
    "    lowerBound = index + 1\n",
    "  if item < myList[index]:\n",
    "    upperBound = index - 1\n",
    "\n",
    "if(found):\n",
    "  print(\"Item found\")\n",
    "else:\n",
    "  print(\"Item not found\")"
   ],
   "metadata": {
    "id": "fV6eqU0KTDo8"
   },
   "execution_count": null,
   "outputs": []
  },
  {
   "cell_type": "code",
   "execution_count": null,
   "metadata": {
    "id": "EzIiKiAVRwt7",
    "colab": {
     "base_uri": "https://localhost:8080/"
    },
    "outputId": "55f0963b-14d1-4480-8c45-617f704193e4"
   },
   "outputs": [
    {
     "output_type": "stream",
     "name": "stdout",
     "text": [
      "[4, 14, 21, 27, 41, 43, 45, 46, 57]\n"
     ]
    }
   ],
   "source": [
    "#Activity 19D\n",
    "#Python program for Insertion Sort\n",
    "myList = [4,46,43,27,57,41,45,21,14]\n",
    "lowerBound = 0\n",
    "upperBound = len(myList)\n",
    "#0,1,2,3,4,5,6,7,8,9\n",
    "for index in range(lowerBound + 1, upperBound):\n",
    "  key = myList[index] #myList[0] myList[1]\n",
    "  place = index - 1\n",
    "  if myList[place] > key:\n",
    "    while place >= lowerBound and myList[place] > key:\n",
    "        #do the swap using a temp variable\n",
    "        temp = myList[place]\n",
    "        myList[place + 1] = myList[place]\n",
    "        myList[place] = temp\n",
    "        place = place -1 #subtract one to reduce the upper bound / sorted list\n",
    "    myList[place + 1] = key\n",
    "\n",
    "#output the sorted array\n",
    "print(myList)\n"
   ]
  },
  {
   "cell_type": "code",
   "source": [
    "#Activity 19D\n",
    "#Python program for Insertion Sort - SIMPLE\n",
    "myList = [4,46,43,27,57,41,45,21,14]\n",
    "\n",
    "for i in range(1, len(myList)):\n",
    "  key = myList[i]\n",
    "  j = i - 1\n",
    "\n",
    "  while j >= 0 and key < myList[j]:\n",
    "    myList[j + 1] = myList[j]\n",
    "    j = j - 1\n",
    "\n",
    "  myList[j + 1] = key\n",
    "#output the sorted array\n",
    "print(myList)"
   ],
   "metadata": {
    "colab": {
     "base_uri": "https://localhost:8080/"
    },
    "id": "NjaHRx_LiEpc",
    "outputId": "919ab315-92b9-4e9f-adc3-1a9272a9d59f"
   },
   "execution_count": null,
   "outputs": [
    {
     "output_type": "stream",
     "name": "stdout",
     "text": [
      "0\n",
      "1\n",
      "0\n",
      "2\n",
      "1\n",
      "0\n",
      "3\n",
      "4\n",
      "3\n",
      "2\n",
      "1\n",
      "5\n",
      "4\n",
      "3\n",
      "6\n",
      "5\n",
      "4\n",
      "3\n",
      "2\n",
      "1\n",
      "0\n",
      "7\n",
      "6\n",
      "5\n",
      "4\n",
      "3\n",
      "2\n",
      "1\n",
      "0\n",
      "[4, 14, 21, 27, 41, 43, 45, 46, 57]\n"
     ]
    }
   ]
  },
  {
   "cell_type": "code",
   "source": [
    "'''ACTIVITY 19A\n",
    "Write the linear search in the programming language you are using, then\n",
    "change the code to use a similar type of loop that you used in the pseudocode\n",
    "at the beginning of Section 19.1.1, Linear search.'''\n",
    "\n",
    "def linearSearch(searchTerm, list):\n",
    "  #yourcode\n",
    "  found = False\n",
    "\n",
    "  for i in range(len(list)):\n",
    "    if searchTerm == list[i]:\n",
    "      found = True\n",
    "\n",
    "  return found\n",
    "\n",
    "#run the program\n",
    "listItems = [4,8,5,1,0,9]\n",
    "result = linearSearch(9, listItems)\n",
    "\n",
    "if result:\n",
    "  print(\"FOUND\")\n",
    "else:\n",
    "  print(\"NOT FOUND\")\n"
   ],
   "metadata": {
    "colab": {
     "base_uri": "https://localhost:8080/"
    },
    "id": "R91zzEC3eEXP",
    "outputId": "aff8e304-91b5-4f40-9a05-004d03595771"
   },
   "execution_count": null,
   "outputs": [
    {
     "output_type": "stream",
     "name": "stdout",
     "text": [
      "FOUND\n"
     ]
    }
   ]
  },
  {
   "cell_type": "code",
   "source": [
    "'''Activity 19C\n",
    "Binary Search Algo'''\n",
    "myList = [5, 10, 15, 20, 25, 30, 35, 40, 50]\n",
    "lowerBound = 0\n",
    "upperBound = len(myList)\n",
    "found = False\n",
    "mid = 0\n",
    "searchTerm = int(input(\"Enter the term to be searched: \"))\n",
    "\n",
    "while (not found) and (lowerBound <= upperBound):\n",
    "  mid = (upperBound + lowerBound) // 2\n",
    "\n",
    "  if (myList[mid] == searchTerm):\n",
    "    found = True\n",
    "  elif (myList[mid] < searchTerm):\n",
    "    lowerBound = mid + 1\n",
    "  else: #(myList[mid] > searchTerm)\n",
    "    upperBound = mid - 1\n",
    "\n",
    "if (found):\n",
    "  print(f\"Item found at index {mid}\")\n",
    "else:\n",
    "  print(\"Item not found\")"
   ],
   "metadata": {
    "colab": {
     "base_uri": "https://localhost:8080/"
    },
    "id": "Kx_l3MaAcXGI",
    "outputId": "87805e7d-0428-4ee5-9e1e-44208278a4ed"
   },
   "execution_count": null,
   "outputs": [
    {
     "output_type": "stream",
     "name": "stdout",
     "text": [
      "Enter the term to be searched: 50\n",
      "Item found at index 8\n"
     ]
    }
   ]
  },
  {
   "cell_type": "code",
   "source": [
    "'''Stack Data Structure'''\n",
    "stack = [None for index in range(0,6)] #creates a stack structure\n",
    "base = 0\n",
    "top = -1\n",
    "MAX_STACK_SIZE = 6\n",
    "item = None\n",
    "\n",
    "def push(item):\n",
    "  global top\n",
    "  if (top < MAX_STACK_SIZE):\n",
    "    top = top + 1\n",
    "    stack[top] = item\n",
    "  else:\n",
    "    print(\"stack full, cannot push.\")\n",
    "\n",
    "def pop():\n",
    "  global top\n",
    "  if top == base - 1:\n",
    "    isEmpty()\n",
    "  else:\n",
    "    item = stack[top]\n",
    "    top = top - 1\n",
    "\n",
    "def peek():\n",
    "  print(stack[top])\n",
    "\n",
    "def isEmpty():\n",
    "  global top\n",
    "  if top == 0:\n",
    "    return \"Stack is empty.\"\n",
    "\n",
    "push(5)\n",
    "print(stack)\n",
    "push(1)\n",
    "print(stack)\n",
    "push(7)\n",
    "print(stack)\n",
    "peek()\n",
    "pop()\n",
    "pop()\n",
    "pop()\n",
    "pop()\n"
   ],
   "metadata": {
    "colab": {
     "base_uri": "https://localhost:8080/"
    },
    "id": "6K0TH3M3offC",
    "outputId": "536afb33-77c7-4384-a7f9-6dca05fb0fdc"
   },
   "execution_count": null,
   "outputs": [
    {
     "output_type": "stream",
     "name": "stdout",
     "text": [
      "[5, None, None, None, None, None]\n",
      "[5, 1, None, None, None, None]\n",
      "[5, 1, 7, None, None, None]\n",
      "7\n"
     ]
    }
   ]
  },
  {
   "cell_type": "code",
   "source": [
    "#global variables\n",
    "myStack = [None]*10\n",
    "MAX_STACK_SIZE = 10\n",
    "top = -1\n",
    "base = 0\n",
    "item = None\n",
    "\n",
    "#pop - remove top item\n",
    "def pop():\n",
    "  global top\n",
    "  if (top == base - 1):\n",
    "    isEmpty()\n",
    "  else:\n",
    "    print(\"Item\", myStack[top], \"popped.\")\n",
    "    item = myStack[top]\n",
    "    top = top - 1\n",
    "\n",
    "\n",
    "#push - add an item\n",
    "def push(item):\n",
    "  global top\n",
    "  if (top < MAX_STACK_SIZE):\n",
    "    top += 1\n",
    "    myStack[top] = item\n",
    "    print(\"Item\", myStack[top], \"pushed.\")\n",
    "  else:\n",
    "    print(\"Stack is full\")\n",
    "\n",
    "#peek - check top item\n",
    "def peek():\n",
    "  print(myStack[top])\n",
    "\n",
    "#isempty\n",
    "def isEmpty():\n",
    "  global top\n",
    "  if top == -1:\n",
    "    print(\"Stack is empty.\")\n",
    "\n",
    "#main function\n",
    "def main():\n",
    "  push(7)\n",
    "  push(32)\n",
    "  print(myStack)\n",
    "  pop()\n",
    "  pop()\n",
    "  pop()\n",
    "  push(1)\n",
    "  push(2)\n",
    "  push(3)\n",
    "  push(4)\n",
    "  push(5)\n",
    "  print(myStack)\n",
    "\n",
    "\n",
    "\n",
    "main()"
   ],
   "metadata": {
    "colab": {
     "base_uri": "https://localhost:8080/"
    },
    "id": "zACefTHAjtEX",
    "outputId": "31b55159-391d-40dc-c14b-b216c832f4ab"
   },
   "execution_count": null,
   "outputs": [
    {
     "output_type": "stream",
     "name": "stdout",
     "text": [
      "Item 7 pushed.\n",
      "Item 32 pushed.\n",
      "[7, 32, None, None, None, None, None, None, None, None]\n",
      "Item 32 popped.\n",
      "Item 7 popped.\n",
      "Stack is empty.\n",
      "Item 1 pushed.\n",
      "Item 2 pushed.\n",
      "Item 3 pushed.\n",
      "Item 4 pushed.\n",
      "Item 5 pushed.\n",
      "[1, 2, 3, 4, 5, None, None, None, None, None]\n"
     ]
    }
   ]
  },
  {
   "cell_type": "code",
   "source": [
    "# Python program for finding an item in a linked list\n",
    "# Populating the linked list\n",
    "myLinkedList = [27, 19, 36, 42, 16, None, None, None, None, None, None]\n",
    "myLinkedListPointers = [-1, 0, 1, 2, 3, 6, 7, 8, 9, 10, -1]\n",
    "startPointer = 4\n",
    "heapStartPointer = 5\n",
    "nullPointer = -1\n",
    "\n",
    "# Defining the find function\n",
    "def find(itemSearch):\n",
    "    found = False\n",
    "    itemPointer = startPointer\n",
    "\n",
    "    while itemPointer != nullPointer and not found:\n",
    "        if myLinkedList[itemPointer] == itemSearch:\n",
    "            found = True\n",
    "        else:\n",
    "            itemPointer = myLinkedListPointers[itemPointer]\n",
    "\n",
    "    return itemPointer\n",
    "\n",
    "# Enter item to search for\n",
    "item = int(input(\"Please enter item to be found: \"))\n",
    "result = find(item)\n",
    "\n",
    "if result != -1:\n",
    "    print(\"Item found\")\n",
    "else:\n",
    "    print(\"Item not found\")\n",
    "\n",
    "\n",
    "def insert(itemToAdd):\n",
    "  global startPointer\n",
    "  global heapStartPointer\n",
    "  if heapStartPointer == nullPointer:#-1\n",
    "    print(\"List is full\")\n",
    "  else:\n",
    "    tempP = startPointer\n",
    "    startPointer = heapStartPointer\n",
    "    heapStartPointer = myLinkedListPointers[heapStartPointer]\n",
    "    myLinkedList[startPointer] = itemToAdd\n",
    "    myLinkedListPointers[startPointer] = tempP\n",
    "\n",
    "def printList():\n",
    "  for item in myLinkedList:\n",
    "    print(item)\n",
    "\n",
    "insert(88)\n",
    "printList()\n"
   ],
   "metadata": {
    "colab": {
     "base_uri": "https://localhost:8080/"
    },
    "id": "ivfubGp6Et3C",
    "outputId": "84124241-97d9-40fb-f513-c0cdf5f8415b"
   },
   "execution_count": null,
   "outputs": [
    {
     "output_type": "stream",
     "name": "stdout",
     "text": [
      "Please enter item to be found: 1\n",
      "Item not found\n",
      "27\n",
      "19\n",
      "36\n",
      "42\n",
      "16\n",
      "88\n",
      "None\n",
      "None\n",
      "None\n",
      "None\n",
      "None\n"
     ]
    }
   ]
  }
 ]
}
